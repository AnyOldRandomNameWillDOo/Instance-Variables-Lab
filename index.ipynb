{
 "cells": [
  {
   "cell_type": "markdown",
   "metadata": {},
   "source": [
    "# Instance Variables - Lab"
   ]
  },
  {
   "cell_type": "markdown",
   "metadata": {},
   "source": [
    "## Introduction\n",
    "In this lab, you'll practice using instance variables, which you use to store information about a particular instance object. You will continue to use our `fuber` theme and create some methods that operate on our instance variables to return some valuable information about the passenger and driver instance objects."
   ]
  },
  {
   "cell_type": "markdown",
   "metadata": {},
   "source": [
    "## Objectives\n",
    "\n",
    "In this lab you will: \n",
    "\n",
    "* Define and call an instance method\n",
    "* Define and access instance attributes"
   ]
  },
  {
   "cell_type": "markdown",
   "metadata": {},
   "source": [
    "## Define classes"
   ]
  },
  {
   "cell_type": "markdown",
   "metadata": {},
   "source": [
    "Below, define classes for both the `Driver` and `Passenger` classes -- for now just define the classes and remember to include the keyword `pass` so that you'll have valid syntax for the classes."
   ]
  },
  {
   "cell_type": "code",
   "execution_count": 1,
   "metadata": {
    "ExecuteTime": {
     "end_time": "2020-09-04T21:56:52.046597Z",
     "start_time": "2020-09-04T21:56:52.042654Z"
    }
   },
   "outputs": [],
   "source": [
    "# Driver class\n",
    "class Driver:\n",
    "    pass"
   ]
  },
  {
   "cell_type": "code",
   "execution_count": 2,
   "metadata": {
    "ExecuteTime": {
     "end_time": "2020-09-04T21:56:52.501095Z",
     "start_time": "2020-09-04T21:56:52.497099Z"
    }
   },
   "outputs": [],
   "source": [
    "# Passenger class\n",
    "class Passenger:\n",
    "    pass"
   ]
  },
  {
   "cell_type": "markdown",
   "metadata": {},
   "source": [
    "Next, instantiate a new instance of a passenger and a new instance of a driver. Give the passenger a `rating` of `4.9` and give the driver a `miles_driven` attribute of `100,000`."
   ]
  },
  {
   "cell_type": "code",
   "execution_count": 3,
   "metadata": {
    "ExecuteTime": {
     "end_time": "2020-09-04T21:59:04.326760Z",
     "start_time": "2020-09-04T21:59:04.323786Z"
    }
   },
   "outputs": [],
   "source": [
    "# Assign a driver instance\n",
    "driver = Driver() \n",
    "\n",
    "# Give the driver instance object 'miles_driven' of 100000\n",
    "driver.miles_driven = 100000"
   ]
  },
  {
   "cell_type": "code",
   "execution_count": 4,
   "metadata": {
    "ExecuteTime": {
     "end_time": "2020-09-04T21:59:04.700126Z",
     "start_time": "2020-09-04T21:59:04.698101Z"
    }
   },
   "outputs": [],
   "source": [
    "# Assign a passenger instance\n",
    "passenger = Passenger() \n",
    "\n",
    "# Give the passenger instance object a 'rating' of 4.9\n",
    "passenger.rating = 4.9"
   ]
  },
  {
   "cell_type": "markdown",
   "metadata": {},
   "source": [
    "## Search attributes using functions \n",
    "\n",
    "Your next challenge is to build a function to find a driver with a given name. The function should take two inputs, `drivers` and `search_names`. `drivers` will be a list of driver objects (instances of the class you defined above) and `search_name` will be a string for the driver name you wish to search from. \n",
    "\n",
    "The function should then return the first driver object from drivers whose name is an exact match to the search name. If there is no driver that matches the name searched for, then the function should return `None` and print a string stating \"Sorry we couldn't find a driver with the name, ____! :\\(\". \n",
    "\n",
    "For example, if there were no results for the search name \"Jack\" your function should return `None` and print:\n",
    "\n",
    "```python\n",
    "\"Sorry, we couldn't find a driver with the name, Jack! :(\"\n",
    "```"
   ]
  },
  {
   "cell_type": "code",
   "execution_count": 22,
   "metadata": {
    "ExecuteTime": {
     "end_time": "2020-09-04T22:08:14.666449Z",
     "start_time": "2020-09-04T22:08:14.658930Z"
    }
   },
   "outputs": [],
   "source": [
    "def find_driver_by_name(drivers, name):\n",
    "    # Write your code here\n",
    "    for driver in drivers:\n",
    "        if driver.name == name:\n",
    "            return driver\n",
    "        else:\n",
    "            pass\n",
    "    print(f'Sorry, we couldn\\'t find a driver with the name, {name}.')\n",
    "    return None"
   ]
  },
  {
   "cell_type": "markdown",
   "metadata": {},
   "source": [
    "To test your function, here are some arbitrary definitions to create instances of your `Driver` class. Run the cell below to load them into memory:  "
   ]
  },
  {
   "cell_type": "code",
   "execution_count": 23,
   "metadata": {
    "ExecuteTime": {
     "end_time": "2020-09-04T22:08:20.019554Z",
     "start_time": "2020-09-04T22:08:20.015463Z"
    }
   },
   "outputs": [],
   "source": [
    "# Create drivers with relevant attributes\n",
    "alex_driver = Driver()\n",
    "alex_driver.name = \"alex\"\n",
    "alex_driver.rating = 9.0\n",
    "\n",
    "michelle_driver = Driver()\n",
    "michelle_driver.name = \"michelle\"\n",
    "michelle_driver.rating = 8.0\n",
    "\n",
    "jake_driver = Driver()\n",
    "jake_driver.name = \"jake\"\n",
    "jake_driver.rating = 9.7\n",
    "\n",
    "ashleigh_driver = Driver()\n",
    "ashleigh_driver.name = \"ashleigh\"\n",
    "ashleigh_driver.rating = 8.75\n",
    "\n",
    "list_of_drivers = [alex_driver, michelle_driver, jake_driver, ashleigh_driver]"
   ]
  },
  {
   "cell_type": "markdown",
   "metadata": {},
   "source": [
    "Use `find_driver_by_name()` along with `list_of_drivers` to check if the following drivers exist: \n",
    "\n",
    "- `\"jake\"` \n",
    "- `\"michelle\"` \n",
    "- `\"allison\"` "
   ]
  },
  {
   "cell_type": "code",
   "execution_count": 24,
   "metadata": {
    "ExecuteTime": {
     "end_time": "2020-09-04T22:08:21.633912Z",
     "start_time": "2020-09-04T22:08:21.626821Z"
    }
   },
   "outputs": [
    {
     "data": {
      "text/plain": [
       "<__main__.Driver at 0x22cf8728048>"
      ]
     },
     "execution_count": 24,
     "metadata": {},
     "output_type": "execute_result"
    }
   ],
   "source": [
    "# Find \"jake\"\n",
    "output_1 = find_driver_by_name(list_of_drivers, 'jake')\n",
    "output_1"
   ]
  },
  {
   "cell_type": "code",
   "execution_count": 25,
   "metadata": {
    "ExecuteTime": {
     "end_time": "2020-09-04T22:08:22.693698Z",
     "start_time": "2020-09-04T22:08:22.683627Z"
    }
   },
   "outputs": [
    {
     "data": {
      "text/plain": [
       "<__main__.Driver at 0x22cf8728eb8>"
      ]
     },
     "execution_count": 25,
     "metadata": {},
     "output_type": "execute_result"
    }
   ],
   "source": [
    "# Find \"michelle\"\n",
    "output_2 = find_driver_by_name(list_of_drivers, 'michelle')\n",
    "output_2"
   ]
  },
  {
   "cell_type": "code",
   "execution_count": 26,
   "metadata": {
    "ExecuteTime": {
     "end_time": "2020-09-04T22:08:23.351723Z",
     "start_time": "2020-09-04T22:08:23.345722Z"
    }
   },
   "outputs": [
    {
     "name": "stdout",
     "output_type": "stream",
     "text": [
      "Sorry, we couldn't find a driver with the name, allison.\n"
     ]
    }
   ],
   "source": [
    "# Find \"allison\"\n",
    "output_3 = find_driver_by_name(list_of_drivers, 'allison')\n",
    "output_3"
   ]
  },
  {
   "cell_type": "code",
   "execution_count": 27,
   "metadata": {
    "ExecuteTime": {
     "end_time": "2020-09-04T22:09:09.616945Z",
     "start_time": "2020-09-04T22:09:09.611960Z"
    }
   },
   "outputs": [
    {
     "data": {
      "text/plain": [
       "NoneType"
      ]
     },
     "execution_count": 27,
     "metadata": {},
     "output_type": "execute_result"
    }
   ],
   "source": [
    "type(output_3)"
   ]
  },
  {
   "cell_type": "code",
   "execution_count": 28,
   "metadata": {
    "ExecuteTime": {
     "end_time": "2020-09-04T22:09:24.978766Z",
     "start_time": "2020-09-04T22:09:24.970770Z"
    }
   },
   "outputs": [
    {
     "data": {
      "text/plain": [
       "__main__.Driver"
      ]
     },
     "execution_count": 28,
     "metadata": {},
     "output_type": "execute_result"
    }
   ],
   "source": [
    "type(output_2)"
   ]
  },
  {
   "cell_type": "markdown",
   "metadata": {},
   "source": [
    "If you correctly defined `find_driver_by_name()`, the first two calls should have returned `Driver` objects, while the third should have printed the apology statement and returned `None`. (You can further inspect the final output to verify this using the `type()` function which should reveal that the output is indeed a `Nonetype`).\n",
    "\n",
    "\n",
    "While perhaps moderately useful, the function as written is rather brittle. Misspelling a driver's name will lead to no results. As such, write a more general function called `name_starts_with()` that will return a list of instance objects that start with a given substring. "
   ]
  },
  {
   "cell_type": "code",
   "execution_count": 34,
   "metadata": {
    "ExecuteTime": {
     "end_time": "2020-09-04T22:13:56.379460Z",
     "start_time": "2020-09-04T22:13:56.371517Z"
    }
   },
   "outputs": [],
   "source": [
    "# Write your function here that returns the list of \n",
    "# instance objects whose name starts with the given substring\n",
    "def name_starts_with(drivers, substring):\n",
    "    starts_with = []\n",
    "    for driver in drivers:\n",
    "        if driver.name.startswith(substring):\n",
    "            starts_with.append(driver.name)\n",
    "            \n",
    "    return starts_with"
   ]
  },
  {
   "cell_type": "markdown",
   "metadata": {},
   "source": [
    "Use `name_starts_with()` and `list_of_drivers` to find all drivers whose name start with `'a'`: "
   ]
  },
  {
   "cell_type": "code",
   "execution_count": 35,
   "metadata": {
    "ExecuteTime": {
     "end_time": "2020-09-04T22:14:14.252043Z",
     "start_time": "2020-09-04T22:14:14.243080Z"
    }
   },
   "outputs": [
    {
     "data": {
      "text/plain": [
       "['alex', 'ashleigh']"
      ]
     },
     "execution_count": 35,
     "metadata": {},
     "output_type": "execute_result"
    }
   ],
   "source": [
    "# Drivers whose name start with 'a'\n",
    "name_starts_with(list_of_drivers, 'a')"
   ]
  },
  {
   "cell_type": "markdown",
   "metadata": {},
   "source": [
    "Finally, define a function that returns the instance object of the driver with the highest rating: "
   ]
  },
  {
   "cell_type": "code",
   "execution_count": 37,
   "metadata": {
    "ExecuteTime": {
     "end_time": "2020-09-04T22:18:33.078882Z",
     "start_time": "2020-09-04T22:18:33.074960Z"
    }
   },
   "outputs": [],
   "source": [
    "# Write your function here that returns the driver with the highest rating\n",
    "def highest_rated_driver(drivers):\n",
    "    best_driver = drivers[0]\n",
    "    for driver in drivers:\n",
    "        if driver.rating > best_driver.rating:\n",
    "            best_driver = driver\n",
    "    \n",
    "    return best_driver.name, best_driver.rating"
   ]
  },
  {
   "cell_type": "markdown",
   "metadata": {},
   "source": [
    "Use this function to find the highest rated driver: "
   ]
  },
  {
   "cell_type": "code",
   "execution_count": 38,
   "metadata": {
    "ExecuteTime": {
     "end_time": "2020-09-04T22:18:43.103913Z",
     "start_time": "2020-09-04T22:18:43.098923Z"
    }
   },
   "outputs": [
    {
     "data": {
      "text/plain": [
       "('jake', 9.7)"
      ]
     },
     "execution_count": 38,
     "metadata": {},
     "output_type": "execute_result"
    }
   ],
   "source": [
    "# Find the driver with the highest rating\n",
    "highest_rated_driver(list_of_drivers)"
   ]
  },
  {
   "cell_type": "markdown",
   "metadata": {},
   "source": [
    "## Want more? "
   ]
  },
  {
   "cell_type": "markdown",
   "metadata": {},
   "source": [
    "Define a `NewDriver` class with an instance method called `passenger_names()`. This method accesses the `passengers` attribute of the class and returns a list of all `name`s associated with `passengers`. "
   ]
  },
  {
   "cell_type": "code",
   "execution_count": 53,
   "metadata": {
    "ExecuteTime": {
     "end_time": "2020-09-04T22:25:32.615239Z",
     "start_time": "2020-09-04T22:25:32.611242Z"
    }
   },
   "outputs": [],
   "source": [
    "# Define the NewDriver class\n",
    "class NewDriver:\n",
    "    \n",
    "    def passenger_names(self):\n",
    "        names = []\n",
    "        for passenger in self.passengers:\n",
    "            names.append(passenger.name)\n",
    "            \n",
    "        return names"
   ]
  },
  {
   "cell_type": "markdown",
   "metadata": {},
   "source": [
    "Before we proceed, run the following cell that creates four passenger objects and a `list_of_passengers`: "
   ]
  },
  {
   "cell_type": "code",
   "execution_count": 54,
   "metadata": {
    "ExecuteTime": {
     "end_time": "2020-09-04T22:25:33.862939Z",
     "start_time": "2020-09-04T22:25:33.859883Z"
    }
   },
   "outputs": [],
   "source": [
    "# Passengers \n",
    "alex_passenger = Passenger()\n",
    "alex_passenger.name = \"alex\"\n",
    "\n",
    "michelle_passenger = Passenger()\n",
    "michelle_passenger.name = \"michelle\"\n",
    "\n",
    "jake_passenger = Passenger()\n",
    "jake_passenger.name = \"jake\"\n",
    "\n",
    "ashleigh_passenger = Passenger()\n",
    "ashleigh_passenger.name = \"ashleigh\"\n",
    "\n",
    "list_of_passengers = [alex_passenger, michelle_passenger, jake_passenger, ashleigh_passenger]"
   ]
  },
  {
   "cell_type": "markdown",
   "metadata": {},
   "source": [
    "Now, instantiate a `NewDriver` class called `best_driver` that has the attributes `name`, `car_make`, `car_model`, `age`, and `passengers`: "
   ]
  },
  {
   "cell_type": "code",
   "execution_count": 55,
   "metadata": {
    "ExecuteTime": {
     "end_time": "2020-09-04T22:25:35.022736Z",
     "start_time": "2020-09-04T22:25:35.015420Z"
    }
   },
   "outputs": [],
   "source": [
    "# Instantiate a NewDriver class object\n",
    "best_driver = NewDriver() \n",
    "\n",
    "# Add the name attribute and assign it 'Garol'\n",
    "best_driver.name = 'Garol'\n",
    "\n",
    "# Add the car_make attribute and assign it 'toyota'\n",
    "best_driver.car_make = 'toyota'\n",
    "\n",
    "# Add the car_model attribute and assign it 'camry'\n",
    "best_driver.car_model = 'camry'\n",
    "\n",
    "# Add the age attribute and assign it 30\n",
    "best_driver.age = 30\n",
    "\n",
    "# Add the passengers attribute and assign it to list_of_passengers\n",
    "best_driver.passengers = list_of_passengers"
   ]
  },
  {
   "cell_type": "markdown",
   "metadata": {},
   "source": [
    "Alright, great! Now you have some attributes on the driver that you can work with. Create an instance method in the NewDriver class called `passenger_names` which returns a list of all the passengers' names/\n",
    "Your output should look like `['alex', 'michelle', 'jake', 'ashleigh']`. \n",
    "\n",
    "Well done! You have all the necessary information for your `best_driver`. In the previous cell, you assigned some passengers to this driver. What are their names?  "
   ]
  },
  {
   "cell_type": "code",
   "execution_count": 56,
   "metadata": {
    "ExecuteTime": {
     "end_time": "2020-09-04T22:25:36.594213Z",
     "start_time": "2020-09-04T22:25:36.587249Z"
    }
   },
   "outputs": [
    {
     "name": "stdout",
     "output_type": "stream",
     "text": [
      "['alex', 'michelle', 'jake', 'ashleigh']\n"
     ]
    }
   ],
   "source": [
    "# Find the names of the passengers\n",
    "names_of_passengers = best_driver.passenger_names()\n",
    "print(names_of_passengers)"
   ]
  },
  {
   "cell_type": "markdown",
   "metadata": {},
   "source": [
    "## Summary"
   ]
  },
  {
   "cell_type": "markdown",
   "metadata": {},
   "source": [
    "In this lab, you practiced creating instance variables that add information to our instance objects. You then used these instance methods to return information about the instances themselves."
   ]
  }
 ],
 "metadata": {
  "kernelspec": {
   "display_name": "learn-env",
   "language": "python",
   "name": "learn-env"
  },
  "language_info": {
   "codemirror_mode": {
    "name": "ipython",
    "version": 3
   },
   "file_extension": ".py",
   "mimetype": "text/x-python",
   "name": "python",
   "nbconvert_exporter": "python",
   "pygments_lexer": "ipython3",
   "version": "3.6.9"
  },
  "toc": {
   "base_numbering": 1,
   "nav_menu": {},
   "number_sections": true,
   "sideBar": true,
   "skip_h1_title": false,
   "title_cell": "Table of Contents",
   "title_sidebar": "Contents",
   "toc_cell": false,
   "toc_position": {},
   "toc_section_display": true,
   "toc_window_display": true
  }
 },
 "nbformat": 4,
 "nbformat_minor": 2
}
